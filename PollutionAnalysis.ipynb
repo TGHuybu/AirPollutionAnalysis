{
 "cells": [
  {
   "cell_type": "markdown",
   "metadata": {},
   "source": [
    "# **P4DS Final Project: An Analysis On Global Air Pollution**\n",
    "Huy G. Tong $^{1 *}$ \\\n",
    "$^{1}$ *Faculty of Information Technology, VNUHCM - University of Science, Vietnam*\\\n",
    "$^{*}$ *Student ID: 21127307*\n"
   ]
  },
  {
   "cell_type": "markdown",
   "metadata": {},
   "source": [
    "### **ABSTRACT**\n",
    "To be written later."
   ]
  },
  {
   "cell_type": "markdown",
   "metadata": {},
   "source": [
    "### **I. INTRODUCTION**\n",
    "\n",
    "adasd"
   ]
  }
 ],
 "metadata": {
  "kernelspec": {
   "display_name": "Python 3",
   "language": "python",
   "name": "python3"
  },
  "language_info": {
   "codemirror_mode": {
    "name": "ipython",
    "version": 3
   },
   "file_extension": ".py",
   "mimetype": "text/x-python",
   "name": "python",
   "nbconvert_exporter": "python",
   "pygments_lexer": "ipython3",
   "version": "3.10.5"
  }
 },
 "nbformat": 4,
 "nbformat_minor": 2
}
