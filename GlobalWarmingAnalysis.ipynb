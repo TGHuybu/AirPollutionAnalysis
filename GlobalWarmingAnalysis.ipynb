{
 "cells": [
  {
   "cell_type": "markdown",
   "metadata": {},
   "source": [
    "# **P4DS Final Project: An Analysis On Global Warming**\n",
    "Huy G. Tong $^{1 *}$ \\\n",
    "$^{1}$ *Faculty of Information Technology, VNUHCM - University of Science, Vietnam*\\\n",
    "$^{*}$ *Student ID: 21127307*\n"
   ]
  },
  {
   "cell_type": "markdown",
   "metadata": {},
   "source": [
    "#### **ABSTRACT**\n",
    "To be written later."
   ]
  },
  {
   "cell_type": "markdown",
   "metadata": {},
   "source": [
    "#### **1. INTRODUCTION**\n",
    "\n",
    "To be written later."
   ]
  },
  {
   "cell_type": "markdown",
   "metadata": {},
   "source": [
    "#### **2. METHOD**\n",
    "\n",
    "In this section, I will describe in detail the steps used to perform the analysis on the dataset. I will also give a brief description of the data used in this project, as well as include the codes to help derive insightful information.\n",
    "\n",
    "First, let us import the necessary packages, be sure to run the bellow cell at least once when executing this Notebook.\n"
   ]
  },
  {
   "cell_type": "code",
   "execution_count": 35,
   "metadata": {},
   "outputs": [],
   "source": [
    "import pandas as pd \n",
    "import numpy as np \n",
    "import matplotlib.pyplot as plt\n",
    "import datetime as dt"
   ]
  },
  {
   "cell_type": "markdown",
   "metadata": {},
   "source": [
    "#### **2.1 Data**"
   ]
  },
  {
   "cell_type": "code",
   "execution_count": 36,
   "metadata": {},
   "outputs": [],
   "source": [
    "globtemp = pd.read_csv(\"data/GlobalTemperatures.csv\")\n",
    "country_co2_emission = pd.read_csv(\"data/co2_emissions_kt_by_country.csv\")"
   ]
  },
  {
   "cell_type": "markdown",
   "metadata": {},
   "source": [
    "#### **2.2 Preprocessing**"
   ]
  },
  {
   "cell_type": "code",
   "execution_count": 51,
   "metadata": {},
   "outputs": [],
   "source": [
    "globtemp = globtemp.dropna(axis=0)\n",
    "country_co2_emission = country_co2_emission.dropna(axis=0)"
   ]
  },
  {
   "cell_type": "code",
   "execution_count": 57,
   "metadata": {},
   "outputs": [
    {
     "data": {
      "text/html": [
       "<div>\n",
       "<style scoped>\n",
       "    .dataframe tbody tr th:only-of-type {\n",
       "        vertical-align: middle;\n",
       "    }\n",
       "\n",
       "    .dataframe tbody tr th {\n",
       "        vertical-align: top;\n",
       "    }\n",
       "\n",
       "    .dataframe thead th {\n",
       "        text-align: right;\n",
       "    }\n",
       "</style>\n",
       "<table border=\"1\" class=\"dataframe\">\n",
       "  <thead>\n",
       "    <tr style=\"text-align: right;\">\n",
       "      <th></th>\n",
       "      <th>dt</th>\n",
       "      <th>LandAverageTemperature</th>\n",
       "      <th>LandAverageTemperatureUncertainty</th>\n",
       "      <th>LandMaxTemperature</th>\n",
       "      <th>LandMaxTemperatureUncertainty</th>\n",
       "      <th>LandMinTemperature</th>\n",
       "      <th>LandMinTemperatureUncertainty</th>\n",
       "      <th>LandAndOceanAverageTemperature</th>\n",
       "      <th>LandAndOceanAverageTemperatureUncertainty</th>\n",
       "    </tr>\n",
       "  </thead>\n",
       "  <tbody>\n",
       "    <tr>\n",
       "      <th>0</th>\n",
       "      <td>1850</td>\n",
       "      <td>7.900667</td>\n",
       "      <td>0.876417</td>\n",
       "      <td>13.476667</td>\n",
       "      <td>2.394833</td>\n",
       "      <td>1.964333</td>\n",
       "      <td>1.571167</td>\n",
       "      <td>14.867167</td>\n",
       "      <td>0.308167</td>\n",
       "    </tr>\n",
       "    <tr>\n",
       "      <th>1</th>\n",
       "      <td>1851</td>\n",
       "      <td>8.178583</td>\n",
       "      <td>0.881917</td>\n",
       "      <td>13.081000</td>\n",
       "      <td>2.397250</td>\n",
       "      <td>2.203917</td>\n",
       "      <td>1.632417</td>\n",
       "      <td>14.991833</td>\n",
       "      <td>0.312083</td>\n",
       "    </tr>\n",
       "    <tr>\n",
       "      <th>2</th>\n",
       "      <td>1852</td>\n",
       "      <td>8.100167</td>\n",
       "      <td>0.918250</td>\n",
       "      <td>13.397333</td>\n",
       "      <td>2.619250</td>\n",
       "      <td>2.337000</td>\n",
       "      <td>1.382917</td>\n",
       "      <td>15.006500</td>\n",
       "      <td>0.316417</td>\n",
       "    </tr>\n",
       "    <tr>\n",
       "      <th>3</th>\n",
       "      <td>1853</td>\n",
       "      <td>8.041833</td>\n",
       "      <td>0.835000</td>\n",
       "      <td>13.886583</td>\n",
       "      <td>2.095083</td>\n",
       "      <td>1.892500</td>\n",
       "      <td>1.355583</td>\n",
       "      <td>14.955167</td>\n",
       "      <td>0.283833</td>\n",
       "    </tr>\n",
       "    <tr>\n",
       "      <th>4</th>\n",
       "      <td>1854</td>\n",
       "      <td>8.210500</td>\n",
       "      <td>0.825667</td>\n",
       "      <td>13.977417</td>\n",
       "      <td>1.783333</td>\n",
       "      <td>1.762167</td>\n",
       "      <td>1.357000</td>\n",
       "      <td>14.991000</td>\n",
       "      <td>0.276417</td>\n",
       "    </tr>\n",
       "  </tbody>\n",
       "</table>\n",
       "</div>"
      ],
      "text/plain": [
       "     dt  LandAverageTemperature  LandAverageTemperatureUncertainty  \\\n",
       "0  1850                7.900667                           0.876417   \n",
       "1  1851                8.178583                           0.881917   \n",
       "2  1852                8.100167                           0.918250   \n",
       "3  1853                8.041833                           0.835000   \n",
       "4  1854                8.210500                           0.825667   \n",
       "\n",
       "   LandMaxTemperature  LandMaxTemperatureUncertainty  LandMinTemperature  \\\n",
       "0           13.476667                       2.394833            1.964333   \n",
       "1           13.081000                       2.397250            2.203917   \n",
       "2           13.397333                       2.619250            2.337000   \n",
       "3           13.886583                       2.095083            1.892500   \n",
       "4           13.977417                       1.783333            1.762167   \n",
       "\n",
       "   LandMinTemperatureUncertainty  LandAndOceanAverageTemperature  \\\n",
       "0                       1.571167                       14.867167   \n",
       "1                       1.632417                       14.991833   \n",
       "2                       1.382917                       15.006500   \n",
       "3                       1.355583                       14.955167   \n",
       "4                       1.357000                       14.991000   \n",
       "\n",
       "   LandAndOceanAverageTemperatureUncertainty  \n",
       "0                                   0.308167  \n",
       "1                                   0.312083  \n",
       "2                                   0.316417  \n",
       "3                                   0.283833  \n",
       "4                                   0.276417  "
      ]
     },
     "execution_count": 57,
     "metadata": {},
     "output_type": "execute_result"
    }
   ],
   "source": [
    "globtemp_annual_mean = globtemp.copy()\n",
    "globtemp_annual_mean[\"dt\"] = pd.to_datetime(globtemp_annual_mean[\"dt\"], format=\"%Y-%m-%d\").dt.year\n",
    "globtemp_annual_mean = globtemp_annual_mean.groupby(\"dt\").mean().reset_index()\n",
    "globtemp_annual_mean.head()"
   ]
  },
  {
   "cell_type": "code",
   "execution_count": 58,
   "metadata": {},
   "outputs": [],
   "source": [
    "country_co2_emission[\"year\"] = pd.to_datetime(country_co2_emission[\"year\"], format=\"%Y\").dt.year"
   ]
  },
  {
   "cell_type": "code",
   "execution_count": 63,
   "metadata": {},
   "outputs": [
    {
     "name": "stdout",
     "output_type": "stream",
     "text": [
      "-- Begin analysis from year 1960\n",
      "-- End analysis at year 2015\n",
      "-- Total of 55 years\n"
     ]
    }
   ],
   "source": [
    "globtemp_year_min = globtemp_annual_mean[\"dt\"].min()\n",
    "globtemp_year_max = globtemp_annual_mean[\"dt\"].max()\n",
    "\n",
    "co2_emission_year_min = country_co2_emission[\"year\"].min()\n",
    "co2_emission_year_max = country_co2_emission[\"year\"].max()\n",
    "\n",
    "start_year = max(globtemp_year_min, co2_emission_year_min)\n",
    "end_year = min(globtemp_year_max, co2_emission_year_max)\n",
    "\n",
    "print(f\"-- Begin analysis from year {start_year}\")\n",
    "print(f\"-- End analysis at year {end_year}\")\n",
    "print(f\"-- Total of {end_year - start_year} years\")"
   ]
  },
  {
   "cell_type": "markdown",
   "metadata": {},
   "source": [
    "#### **2.3 Analysis**"
   ]
  },
  {
   "cell_type": "markdown",
   "metadata": {},
   "source": [
    "note questions:\n",
    "- how has the global temperature changed throughout the years?\n",
    "- temp and gas: what is the relation?"
   ]
  },
  {
   "cell_type": "code",
   "execution_count": 76,
   "metadata": {},
   "outputs": [
    {
     "name": "stderr",
     "output_type": "stream",
     "text": [
      "C:\\Users\\Admin\\AppData\\Local\\Temp\\ipykernel_8940\\1188872571.py:6: FutureWarning: The default value of numeric_only in DataFrameGroupBy.mean is deprecated. In a future version, numeric_only will default to False. Either specify numeric_only or select only columns which should be valid for the function.\n",
      "  y = y.groupby(\"year\").mean().reset_index()\n"
     ]
    },
    {
     "data": {
      "text/plain": [
       "((56, 2), (56, 9))"
      ]
     },
     "execution_count": 76,
     "metadata": {},
     "output_type": "execute_result"
    }
   ],
   "source": [
    "x = globtemp_annual_mean.loc[globtemp_annual_mean[\"dt\"] >= start_year]\n",
    "x = x.loc[x[\"dt\"] <= end_year]\n",
    "\n",
    "y = country_co2_emission.loc[country_co2_emission[\"year\"] >= start_year]\n",
    "y = y.loc[y[\"year\"] <= end_year]\n",
    "y = y.groupby(\"year\").mean().reset_index()"
   ]
  },
  {
   "cell_type": "code",
   "execution_count": 77,
   "metadata": {},
   "outputs": [
    {
     "data": {
      "text/plain": [
       "<matplotlib.collections.PathCollection at 0x1da826456f0>"
      ]
     },
     "execution_count": 77,
     "metadata": {},
     "output_type": "execute_result"
    },
    {
     "data": {
      "image/png": "[encoded data removed]",
      "text/plain": [
       "<Figure size 640x480 with 1 Axes>"
      ]
     },
     "metadata": {},
     "output_type": "display_data"
    }
   ],
   "source": [
    "plt.scatter(x[\"LandAverageTemperature\"], y[\"value\"])"
   ]
  },
  {
   "cell_type": "markdown",
   "metadata": {},
   "source": [
    "#### **3. CONCLUSION**"
   ]
  },
  {
   "cell_type": "markdown",
   "metadata": {},
   "source": [
    "#### **REFERENCES**"
   ]
  }
 ],
 "metadata": {
  "kernelspec": {
   "display_name": "Python 3",
   "language": "python",
   "name": "python3"
  },
  "language_info": {
   "codemirror_mode": {
    "name": "ipython",
    "version": 3
   },
   "file_extension": ".py",
   "mimetype": "text/x-python",
   "name": "python",
   "nbconvert_exporter": "python",
   "pygments_lexer": "ipython3",
   "version": "3.10.5"
  }
 },
 "nbformat": 4,
 "nbformat_minor": 2
}
