{
 "cells": [
  {
   "cell_type": "markdown",
   "metadata": {},
   "source": [
    "# **P4DS Final Project: An Analysis On Global Warming**\n",
    "Huy G. Tong $^{1 *}$ \\\n",
    "$^{1}$ *Faculty of Information Technology, VNUHCM - University of Science, Vietnam*\\\n",
    "$^{*}$ *Student ID: 21127307*\n"
   ]
  },
  {
   "cell_type": "markdown",
   "metadata": {},
   "source": [
    "#### **ABSTRACT**\n",
    "To be written later."
   ]
  },
  {
   "cell_type": "markdown",
   "metadata": {},
   "source": [
    "#### **1. INTRODUCTION**\n",
    "\n",
    "To be written later."
   ]
  },
  {
   "cell_type": "markdown",
   "metadata": {},
   "source": [
    "#### **2. METHOD**\n",
    "\n",
    "In this section, I will describe in detail the steps used to perform the analysis on the dataset. I will also give a brief description of the data used in this project, as well as include the codes to help derive insightful information.\n",
    "\n",
    "First, let us import the necessary packages, be sure to run the bellow cell at least once when executing this Notebook.\n"
   ]
  },
  {
   "cell_type": "code",
   "execution_count": 7,
   "metadata": {},
   "outputs": [],
   "source": [
    "import pandas as pd \n",
    "import numpy as np \n",
    "import matplotlib.pyplot as plt\n",
    "import datetime as dt"
   ]
  },
  {
   "cell_type": "markdown",
   "metadata": {},
   "source": [
    "#### **2.1 Data**"
   ]
  },
  {
   "cell_type": "code",
   "execution_count": 56,
   "metadata": {},
   "outputs": [
    {
     "data": {
      "text/html": [
       "<div>\n",
       "<style scoped>\n",
       "    .dataframe tbody tr th:only-of-type {\n",
       "        vertical-align: middle;\n",
       "    }\n",
       "\n",
       "    .dataframe tbody tr th {\n",
       "        vertical-align: top;\n",
       "    }\n",
       "\n",
       "    .dataframe thead th {\n",
       "        text-align: right;\n",
       "    }\n",
       "</style>\n",
       "<table border=\"1\" class=\"dataframe\">\n",
       "  <thead>\n",
       "    <tr style=\"text-align: right;\">\n",
       "      <th></th>\n",
       "      <th>dt</th>\n",
       "      <th>LandAverageTemperature</th>\n",
       "      <th>LandAverageTemperatureUncertainty</th>\n",
       "      <th>LandMaxTemperature</th>\n",
       "      <th>LandMaxTemperatureUncertainty</th>\n",
       "      <th>LandMinTemperature</th>\n",
       "      <th>LandMinTemperatureUncertainty</th>\n",
       "      <th>LandAndOceanAverageTemperature</th>\n",
       "      <th>LandAndOceanAverageTemperatureUncertainty</th>\n",
       "    </tr>\n",
       "  </thead>\n",
       "  <tbody>\n",
       "    <tr>\n",
       "      <th>499</th>\n",
       "      <td>1791-08-01</td>\n",
       "      <td>13.744</td>\n",
       "      <td>0.807</td>\n",
       "      <td>NaN</td>\n",
       "      <td>NaN</td>\n",
       "      <td>NaN</td>\n",
       "      <td>NaN</td>\n",
       "      <td>NaN</td>\n",
       "      <td>NaN</td>\n",
       "    </tr>\n",
       "    <tr>\n",
       "      <th>1452</th>\n",
       "      <td>1871-01-01</td>\n",
       "      <td>1.447</td>\n",
       "      <td>0.793</td>\n",
       "      <td>7.962</td>\n",
       "      <td>1.379</td>\n",
       "      <td>-2.937</td>\n",
       "      <td>1.432</td>\n",
       "      <td>13.089</td>\n",
       "      <td>0.287</td>\n",
       "    </tr>\n",
       "    <tr>\n",
       "      <th>1320</th>\n",
       "      <td>1860-01-01</td>\n",
       "      <td>2.077</td>\n",
       "      <td>0.860</td>\n",
       "      <td>9.772</td>\n",
       "      <td>2.260</td>\n",
       "      <td>-2.059</td>\n",
       "      <td>1.590</td>\n",
       "      <td>13.170</td>\n",
       "      <td>0.294</td>\n",
       "    </tr>\n",
       "    <tr>\n",
       "      <th>2690</th>\n",
       "      <td>1974-03-01</td>\n",
       "      <td>5.190</td>\n",
       "      <td>0.114</td>\n",
       "      <td>10.966</td>\n",
       "      <td>0.134</td>\n",
       "      <td>-0.495</td>\n",
       "      <td>0.098</td>\n",
       "      <td>14.267</td>\n",
       "      <td>0.054</td>\n",
       "    </tr>\n",
       "    <tr>\n",
       "      <th>1374</th>\n",
       "      <td>1864-07-01</td>\n",
       "      <td>14.162</td>\n",
       "      <td>0.570</td>\n",
       "      <td>18.831</td>\n",
       "      <td>1.333</td>\n",
       "      <td>7.413</td>\n",
       "      <td>0.846</td>\n",
       "      <td>16.715</td>\n",
       "      <td>0.256</td>\n",
       "    </tr>\n",
       "  </tbody>\n",
       "</table>\n",
       "</div>"
      ],
      "text/plain": [
       "              dt  LandAverageTemperature  LandAverageTemperatureUncertainty  \\\n",
       "499   1791-08-01                  13.744                              0.807   \n",
       "1452  1871-01-01                   1.447                              0.793   \n",
       "1320  1860-01-01                   2.077                              0.860   \n",
       "2690  1974-03-01                   5.190                              0.114   \n",
       "1374  1864-07-01                  14.162                              0.570   \n",
       "\n",
       "      LandMaxTemperature  LandMaxTemperatureUncertainty  LandMinTemperature  \\\n",
       "499                  NaN                            NaN                 NaN   \n",
       "1452               7.962                          1.379              -2.937   \n",
       "1320               9.772                          2.260              -2.059   \n",
       "2690              10.966                          0.134              -0.495   \n",
       "1374              18.831                          1.333               7.413   \n",
       "\n",
       "      LandMinTemperatureUncertainty  LandAndOceanAverageTemperature  \\\n",
       "499                             NaN                             NaN   \n",
       "1452                          1.432                          13.089   \n",
       "1320                          1.590                          13.170   \n",
       "2690                          0.098                          14.267   \n",
       "1374                          0.846                          16.715   \n",
       "\n",
       "      LandAndOceanAverageTemperatureUncertainty  \n",
       "499                                         NaN  \n",
       "1452                                      0.287  \n",
       "1320                                      0.294  \n",
       "2690                                      0.054  \n",
       "1374                                      0.256  "
      ]
     },
     "execution_count": 56,
     "metadata": {},
     "output_type": "execute_result"
    }
   ],
   "source": [
    "globtemp = pd.read_csv(\"data/GlobalTemperatures.csv\")\n",
    "globtemp.sample(5)"
   ]
  },
  {
   "cell_type": "markdown",
   "metadata": {},
   "source": [
    "#### **2.2 Preprocessing**"
   ]
  },
  {
   "cell_type": "code",
   "execution_count": 57,
   "metadata": {},
   "outputs": [],
   "source": [
    "globtemp[\"dt\"] = pd.to_datetime(globtemp[\"dt\"], format=\"%Y-%m-%d\")"
   ]
  },
  {
   "cell_type": "markdown",
   "metadata": {},
   "source": [
    "#### **2.3 Analysis**"
   ]
  },
  {
   "cell_type": "markdown",
   "metadata": {},
   "source": [
    "note questions:\n",
    "- how has the global temperature changed throughout the years?\n",
    "- temp and gas: what is the relation?"
   ]
  },
  {
   "cell_type": "markdown",
   "metadata": {},
   "source": [
    "#### **3. CONCLUSION**"
   ]
  },
  {
   "cell_type": "markdown",
   "metadata": {},
   "source": [
    "#### **REFERENCES**"
   ]
  }
 ],
 "metadata": {
  "kernelspec": {
   "display_name": "Python 3",
   "language": "python",
   "name": "python3"
  },
  "language_info": {
   "codemirror_mode": {
    "name": "ipython",
    "version": 3
   },
   "file_extension": ".py",
   "mimetype": "text/x-python",
   "name": "python",
   "nbconvert_exporter": "python",
   "pygments_lexer": "ipython3",
   "version": "3.10.5"
  }
 },
 "nbformat": 4,
 "nbformat_minor": 2
}
